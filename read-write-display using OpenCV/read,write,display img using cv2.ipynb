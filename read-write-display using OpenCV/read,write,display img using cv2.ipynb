{
 "cells": [
  {
   "cell_type": "markdown",
   "id": "55ea57d2",
   "metadata": {},
   "source": [
    "# How to read, write, display using OpenCV"
   ]
  },
  {
   "cell_type": "code",
   "execution_count": 1,
   "id": "0dfac9ef",
   "metadata": {},
   "outputs": [],
   "source": [
    "import cv2"
   ]
  },
  {
   "cell_type": "code",
   "execution_count": 2,
   "id": "9a874dd6",
   "metadata": {},
   "outputs": [],
   "source": [
    "import numpy as np"
   ]
  },
  {
   "cell_type": "code",
   "execution_count": 3,
   "id": "6d368496",
   "metadata": {},
   "outputs": [],
   "source": [
    "input = cv2.imread(r\"C:\\Users\\Prachi\\Documents\\VS Code Files\\DEEP LEARNING\\OPEN CV\\tiger.jpeg\")"
   ]
  },
  {
   "cell_type": "code",
   "execution_count": 4,
   "id": "053fdb76",
   "metadata": {},
   "outputs": [
    {
     "data": {
      "text/plain": [
       "array([[[32, 48, 55],\n",
       "        [32, 48, 55],\n",
       "        [31, 47, 54],\n",
       "        ...,\n",
       "        [20, 33, 35],\n",
       "        [19, 33, 32],\n",
       "        [18, 32, 31]],\n",
       "\n",
       "       [[31, 47, 54],\n",
       "        [31, 47, 54],\n",
       "        [31, 47, 54],\n",
       "        ...,\n",
       "        [17, 30, 32],\n",
       "        [17, 30, 32],\n",
       "        [16, 30, 29]],\n",
       "\n",
       "       [[29, 45, 52],\n",
       "        [29, 45, 52],\n",
       "        [29, 45, 52],\n",
       "        ...,\n",
       "        [14, 27, 29],\n",
       "        [13, 26, 28],\n",
       "        [12, 26, 25]],\n",
       "\n",
       "       ...,\n",
       "\n",
       "       [[17, 31, 30],\n",
       "        [19, 33, 32],\n",
       "        [21, 35, 34],\n",
       "        ...,\n",
       "        [16, 37, 34],\n",
       "        [16, 37, 34],\n",
       "        [19, 40, 37]],\n",
       "\n",
       "       [[17, 31, 30],\n",
       "        [17, 33, 32],\n",
       "        [21, 35, 34],\n",
       "        ...,\n",
       "        [15, 37, 32],\n",
       "        [13, 35, 30],\n",
       "        [23, 42, 39]],\n",
       "\n",
       "       [[16, 32, 31],\n",
       "        [16, 34, 33],\n",
       "        [20, 36, 35],\n",
       "        ...,\n",
       "        [21, 44, 36],\n",
       "        [22, 43, 35],\n",
       "        [25, 42, 38]]], dtype=uint8)"
      ]
     },
     "execution_count": 4,
     "metadata": {},
     "output_type": "execute_result"
    }
   ],
   "source": [
    "input"
   ]
  },
  {
   "cell_type": "code",
   "execution_count": 5,
   "id": "8b9caeba",
   "metadata": {},
   "outputs": [],
   "source": [
    "cv2.imshow('Tiger', input)\n",
    "\n",
    "cv2.waitKey()\n",
    "\n",
    "cv2.destroyAllWindows()"
   ]
  },
  {
   "cell_type": "code",
   "execution_count": 6,
   "id": "5604ebd9",
   "metadata": {},
   "outputs": [
    {
     "name": "stdout",
     "output_type": "stream",
     "text": [
      "Height of Image: 225 pixels\n",
      "Width of Image:  225 pixels\n"
     ]
    }
   ],
   "source": [
    "print('Height of Image:', int(input.shape[0]), 'pixels')\n",
    "print('Width of Image: ', int(input.shape[1]), 'pixels')"
   ]
  },
  {
   "cell_type": "code",
   "execution_count": 7,
   "id": "6b3872e1",
   "metadata": {},
   "outputs": [
    {
     "data": {
      "text/plain": [
       "True"
      ]
     },
     "execution_count": 7,
     "metadata": {},
     "output_type": "execute_result"
    }
   ],
   "source": [
    "cv2.imwrite('output.png', input)"
   ]
  },
  {
   "cell_type": "code",
   "execution_count": 8,
   "id": "1a96b181",
   "metadata": {},
   "outputs": [
    {
     "data": {
      "text/plain": [
       "'c:\\\\Users\\\\Prachi\\\\Documents\\\\VS Code Files\\\\DEEP LEARNING\\\\OPEN CV'"
      ]
     },
     "execution_count": 8,
     "metadata": {},
     "output_type": "execute_result"
    }
   ],
   "source": [
    "import os\n",
    "os.getcwd()"
   ]
  },
  {
   "cell_type": "code",
   "execution_count": null,
   "id": "12da15bb",
   "metadata": {},
   "outputs": [],
   "source": []
  }
 ],
 "metadata": {
  "kernelspec": {
   "display_name": "base",
   "language": "python",
   "name": "python3"
  },
  "language_info": {
   "codemirror_mode": {
    "name": "ipython",
    "version": 3
   },
   "file_extension": ".py",
   "mimetype": "text/x-python",
   "name": "python",
   "nbconvert_exporter": "python",
   "pygments_lexer": "ipython3",
   "version": "3.11.5"
  }
 },
 "nbformat": 4,
 "nbformat_minor": 5
}
